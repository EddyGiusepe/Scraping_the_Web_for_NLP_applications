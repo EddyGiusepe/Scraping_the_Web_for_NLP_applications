{
 "cells": [
  {
   "attachments": {},
   "cell_type": "markdown",
   "metadata": {},
   "source": [
    "<h1 align=\"center\"><font color=\"yellow\">Raspando (Scraping) a Web para aplicativos de PNL</font></h1>"
   ]
  },
  {
   "attachments": {},
   "cell_type": "markdown",
   "metadata": {},
   "source": [
    "<font color=\"yellow\">Data Scientist.: Dr.Eddy Giusepe Chirinos Isidro</font>"
   ]
  },
  {
   "attachments": {},
   "cell_type": "markdown",
   "metadata": {},
   "source": [
    "Este script esta baseado no site [The AiEdge NEWSLETTER do Damien Benveniste](https://newsletter.theaiedge.io/)"
   ]
  },
  {
   "attachments": {},
   "cell_type": "markdown",
   "metadata": {},
   "source": [
    "# Contexto"
   ]
  },
  {
   "attachments": {},
   "cell_type": "markdown",
   "metadata": {},
   "source": [
    "Hoje em dia, é fácil encontrar dados em qualquer lugar! Vamos vasculhar a web para extrair informações sobre os diferentes ganhadores do `Prêmio Nobel de Física`. Podemos encontrar essa lista na [primeira tabela deste link na Wikipédia](https://en.wikipedia.org/wiki/List_of_Nobel_laureates_in_Physics)."
   ]
  },
  {
   "attachments": {},
   "cell_type": "markdown",
   "metadata": {},
   "source": [
    "![](https://substackcdn.com/image/fetch/f_auto,q_auto:good,fl_progressive:steep/https%3A%2F%2Fsubstack-post-media.s3.amazonaws.com%2Fpublic%2Fimages%2Fa9769d35-7e7a-4d89-895f-f5cf3a814811_500x492.png)"
   ]
  },
  {
   "attachments": {},
   "cell_type": "markdown",
   "metadata": {},
   "source": [
    "Vamos extrair e usar os dados de texto de cada página da Wikipedia relacionada a esses laureados para construir `métricas de similaridade` e tentar prever qual `Física` eles praticaram."
   ]
  },
  {
   "attachments": {},
   "cell_type": "markdown",
   "metadata": {},
   "source": [
    "![](https://substackcdn.com/image/fetch/f_auto,q_auto:good,fl_progressive:steep/https%3A%2F%2Fsubstack-post-media.s3.amazonaws.com%2Fpublic%2Fimages%2F678e6fcf-94ea-4963-8f04-b600463db0c9_3178x2126.png)"
   ]
  },
  {
   "attachments": {},
   "cell_type": "markdown",
   "metadata": {},
   "source": [
    "# Preparando o Dataset dos Ganhadores do Prêmio Nobel"
   ]
  },
  {
   "attachments": {},
   "cell_type": "markdown",
   "metadata": {},
   "source": [
    "## <font color=\"red\">Obtendo os Dados</font>"
   ]
  },
  {
   "attachments": {},
   "cell_type": "markdown",
   "metadata": {},
   "source": [
    "Vamos obter os dados de todos os laureados com o [Prêmio Nobel de Física da Wikipedia](https://en.wikipedia.org/wiki/List_of_Nobel_laureates_in_Physics). Podemos usar [pd.read_html](https://pandas.pydata.org/docs/reference/api/pandas.read_html.html) para ler diretamente as tabelas da Wikipédia, assim:"
   ]
  },
  {
   "cell_type": "code",
   "execution_count": 1,
   "metadata": {},
   "outputs": [
    {
     "data": {
      "text/html": [
       "<div>\n",
       "<style scoped>\n",
       "    .dataframe tbody tr th:only-of-type {\n",
       "        vertical-align: middle;\n",
       "    }\n",
       "\n",
       "    .dataframe tbody tr th {\n",
       "        vertical-align: top;\n",
       "    }\n",
       "\n",
       "    .dataframe thead th {\n",
       "        text-align: right;\n",
       "    }\n",
       "</style>\n",
       "<table border=\"1\" class=\"dataframe\">\n",
       "  <thead>\n",
       "    <tr style=\"text-align: right;\">\n",
       "      <th></th>\n",
       "      <th>Year</th>\n",
       "      <th>Image</th>\n",
       "      <th>Laureate[A]</th>\n",
       "      <th>Country[B]</th>\n",
       "      <th>Rationale[C]</th>\n",
       "      <th>Ref</th>\n",
       "    </tr>\n",
       "  </thead>\n",
       "  <tbody>\n",
       "    <tr>\n",
       "      <th>0</th>\n",
       "      <td>1901</td>\n",
       "      <td>NaN</td>\n",
       "      <td>Wilhelm Röntgen (1845–1923)</td>\n",
       "      <td>German Empire</td>\n",
       "      <td>\"in recognition of the extraordinary services ...</td>\n",
       "      <td>[19]</td>\n",
       "    </tr>\n",
       "    <tr>\n",
       "      <th>1</th>\n",
       "      <td>1902</td>\n",
       "      <td>NaN</td>\n",
       "      <td>Hendrik Lorentz (1853–1928)</td>\n",
       "      <td>Netherlands</td>\n",
       "      <td>\"in recognition of the extraordinary service t...</td>\n",
       "      <td>[20]</td>\n",
       "    </tr>\n",
       "    <tr>\n",
       "      <th>2</th>\n",
       "      <td>1902</td>\n",
       "      <td>NaN</td>\n",
       "      <td>Pieter Zeeman (1865–1943)</td>\n",
       "      <td>Netherlands</td>\n",
       "      <td>\"in recognition of the extraordinary service t...</td>\n",
       "      <td>[20]</td>\n",
       "    </tr>\n",
       "    <tr>\n",
       "      <th>3</th>\n",
       "      <td>1903</td>\n",
       "      <td>NaN</td>\n",
       "      <td>Antoine Henri Becquerel (1852–1908)</td>\n",
       "      <td>France</td>\n",
       "      <td>\"for his discovery of spontaneous radioactivity\"</td>\n",
       "      <td>[21]</td>\n",
       "    </tr>\n",
       "    <tr>\n",
       "      <th>4</th>\n",
       "      <td>1903</td>\n",
       "      <td>NaN</td>\n",
       "      <td>Pierre Curie (1859–1906)</td>\n",
       "      <td>France</td>\n",
       "      <td>\"for their joint researches on the radiation p...</td>\n",
       "      <td>[21]</td>\n",
       "    </tr>\n",
       "  </tbody>\n",
       "</table>\n",
       "</div>"
      ],
      "text/plain": [
       "   Year Image                          Laureate[A]     Country[B]  \\\n",
       "0  1901   NaN          Wilhelm Röntgen (1845–1923)  German Empire   \n",
       "1  1902   NaN          Hendrik Lorentz (1853–1928)    Netherlands   \n",
       "2  1902   NaN            Pieter Zeeman (1865–1943)    Netherlands   \n",
       "3  1903   NaN  Antoine Henri Becquerel (1852–1908)         France   \n",
       "4  1903   NaN             Pierre Curie (1859–1906)         France   \n",
       "\n",
       "                                        Rationale[C]   Ref  \n",
       "0  \"in recognition of the extraordinary services ...  [19]  \n",
       "1  \"in recognition of the extraordinary service t...  [20]  \n",
       "2  \"in recognition of the extraordinary service t...  [20]  \n",
       "3   \"for his discovery of spontaneous radioactivity\"  [21]  \n",
       "4  \"for their joint researches on the radiation p...  [21]  "
      ]
     },
     "execution_count": 1,
     "metadata": {},
     "output_type": "execute_result"
    }
   ],
   "source": [
    "import pandas as pd\n",
    "\n",
    "url = \"https://en.wikipedia.org/wiki/List_of_Nobel_laureates_in_Physics\"\n",
    "\n",
    "# Fornecemos a URL ao Pandas:\n",
    "nobel_tables = pd.read_html(url)\n",
    "\n",
    "# Pegamos a primeira Tabela --> 0\n",
    "nobel_df = nobel_tables[0]\n",
    "nobel_df.head()\n"
   ]
  },
  {
   "cell_type": "code",
   "execution_count": 2,
   "metadata": {},
   "outputs": [
    {
     "data": {
      "text/plain": [
       "(228, 6)"
      ]
     },
     "execution_count": 2,
     "metadata": {},
     "output_type": "execute_result"
    }
   ],
   "source": [
    "nobel_df.shape"
   ]
  },
  {
   "attachments": {},
   "cell_type": "markdown",
   "metadata": {},
   "source": [
    "## <font color=\"red\">Limpeza de Dados</font>"
   ]
  },
  {
   "attachments": {},
   "cell_type": "markdown",
   "metadata": {},
   "source": [
    "<font color=\"orange\">Começamos eliminando as colunas que não são relevantes para a nossa análise:</font>"
   ]
  },
  {
   "cell_type": "code",
   "execution_count": 3,
   "metadata": {},
   "outputs": [],
   "source": [
    "# Eliminamos duas colunas:\n",
    "nobel_df.drop(['Image', 'Ref'], axis=1, inplace=True)"
   ]
  },
  {
   "attachments": {},
   "cell_type": "markdown",
   "metadata": {},
   "source": [
    "<font color=\"orange\">Limpamos os nomes das colunas e os traduzimos ao Português:</font>"
   ]
  },
  {
   "cell_type": "code",
   "execution_count": 4,
   "metadata": {},
   "outputs": [],
   "source": [
    "nobel_df.columns = ['Ano', 'Laureado', 'País', 'Justificativa']"
   ]
  },
  {
   "attachments": {},
   "cell_type": "markdown",
   "metadata": {},
   "source": [
    "<font color=\"orange\">Eliminamos todas as linhas em que o prêmio Nobel não foi concedido:</font>"
   ]
  },
  {
   "cell_type": "code",
   "execution_count": 5,
   "metadata": {},
   "outputs": [],
   "source": [
    "nobel_df = nobel_df.loc[~nobel_df['Laureado'].str.startswith('Not awarded')]\n",
    "\n",
    "# Sempre tem que aplicar o RESET para os Índices, para que eles sejam novamente en forma crescente:\n",
    "nobel_df.reset_index(drop=True, inplace=True)\n"
   ]
  },
  {
   "cell_type": "code",
   "execution_count": 6,
   "metadata": {},
   "outputs": [
    {
     "data": {
      "text/html": [
       "<div>\n",
       "<style scoped>\n",
       "    .dataframe tbody tr th:only-of-type {\n",
       "        vertical-align: middle;\n",
       "    }\n",
       "\n",
       "    .dataframe tbody tr th {\n",
       "        vertical-align: top;\n",
       "    }\n",
       "\n",
       "    .dataframe thead th {\n",
       "        text-align: right;\n",
       "    }\n",
       "</style>\n",
       "<table border=\"1\" class=\"dataframe\">\n",
       "  <thead>\n",
       "    <tr style=\"text-align: right;\">\n",
       "      <th></th>\n",
       "      <th>Ano</th>\n",
       "      <th>Laureado</th>\n",
       "      <th>País</th>\n",
       "      <th>Justificativa</th>\n",
       "    </tr>\n",
       "  </thead>\n",
       "  <tbody>\n",
       "    <tr>\n",
       "      <th>0</th>\n",
       "      <td>1901</td>\n",
       "      <td>Wilhelm Röntgen (1845–1923)</td>\n",
       "      <td>German Empire</td>\n",
       "      <td>\"in recognition of the extraordinary services ...</td>\n",
       "    </tr>\n",
       "    <tr>\n",
       "      <th>1</th>\n",
       "      <td>1902</td>\n",
       "      <td>Hendrik Lorentz (1853–1928)</td>\n",
       "      <td>Netherlands</td>\n",
       "      <td>\"in recognition of the extraordinary service t...</td>\n",
       "    </tr>\n",
       "    <tr>\n",
       "      <th>2</th>\n",
       "      <td>1902</td>\n",
       "      <td>Pieter Zeeman (1865–1943)</td>\n",
       "      <td>Netherlands</td>\n",
       "      <td>\"in recognition of the extraordinary service t...</td>\n",
       "    </tr>\n",
       "    <tr>\n",
       "      <th>3</th>\n",
       "      <td>1903</td>\n",
       "      <td>Antoine Henri Becquerel (1852–1908)</td>\n",
       "      <td>France</td>\n",
       "      <td>\"for his discovery of spontaneous radioactivity\"</td>\n",
       "    </tr>\n",
       "    <tr>\n",
       "      <th>4</th>\n",
       "      <td>1903</td>\n",
       "      <td>Pierre Curie (1859–1906)</td>\n",
       "      <td>France</td>\n",
       "      <td>\"for their joint researches on the radiation p...</td>\n",
       "    </tr>\n",
       "  </tbody>\n",
       "</table>\n",
       "</div>"
      ],
      "text/plain": [
       "    Ano                             Laureado           País  \\\n",
       "0  1901          Wilhelm Röntgen (1845–1923)  German Empire   \n",
       "1  1902          Hendrik Lorentz (1853–1928)    Netherlands   \n",
       "2  1902            Pieter Zeeman (1865–1943)    Netherlands   \n",
       "3  1903  Antoine Henri Becquerel (1852–1908)         France   \n",
       "4  1903             Pierre Curie (1859–1906)         France   \n",
       "\n",
       "                                       Justificativa  \n",
       "0  \"in recognition of the extraordinary services ...  \n",
       "1  \"in recognition of the extraordinary service t...  \n",
       "2  \"in recognition of the extraordinary service t...  \n",
       "3   \"for his discovery of spontaneous radioactivity\"  \n",
       "4  \"for their joint researches on the radiation p...  "
      ]
     },
     "execution_count": 6,
     "metadata": {},
     "output_type": "execute_result"
    }
   ],
   "source": [
    "nobel_df.head()"
   ]
  },
  {
   "cell_type": "code",
   "execution_count": 7,
   "metadata": {},
   "outputs": [
    {
     "data": {
      "text/plain": [
       "(222, 4)"
      ]
     },
     "execution_count": 7,
     "metadata": {},
     "output_type": "execute_result"
    }
   ],
   "source": [
    "nobel_df.shape"
   ]
  },
  {
   "attachments": {},
   "cell_type": "markdown",
   "metadata": {},
   "source": [
    "<font color=\"orange\">Verificamos que não temos Dados Missing: </font>"
   ]
  },
  {
   "cell_type": "code",
   "execution_count": 8,
   "metadata": {},
   "outputs": [
    {
     "data": {
      "text/plain": [
       "Ano              False\n",
       "Laureado         False\n",
       "País             False\n",
       "Justificativa    False\n",
       "dtype: bool"
      ]
     },
     "execution_count": 8,
     "metadata": {},
     "output_type": "execute_result"
    }
   ],
   "source": [
    "nobel_df.isnull().any()"
   ]
  },
  {
   "cell_type": "code",
   "execution_count": 9,
   "metadata": {},
   "outputs": [
    {
     "name": "stdout",
     "output_type": "stream",
     "text": [
      "<class 'pandas.core.frame.DataFrame'>\n",
      "RangeIndex: 222 entries, 0 to 221\n",
      "Data columns (total 4 columns):\n",
      " #   Column         Non-Null Count  Dtype \n",
      "---  ------         --------------  ----- \n",
      " 0   Ano            222 non-null    int64 \n",
      " 1   Laureado       222 non-null    object\n",
      " 2   País           222 non-null    object\n",
      " 3   Justificativa  222 non-null    object\n",
      "dtypes: int64(1), object(3)\n",
      "memory usage: 7.1+ KB\n"
     ]
    }
   ],
   "source": [
    "# Também podemos usar\n",
    "nobel_df.info()"
   ]
  },
  {
   "attachments": {},
   "cell_type": "markdown",
   "metadata": {},
   "source": [
    "# <font color=\"red\">Explorando nossos Dados com algumas perguntas</font>"
   ]
  },
  {
   "attachments": {},
   "cell_type": "markdown",
   "metadata": {},
   "source": [
    "## <font color=\"pink\">Quantos físicos ganharam um prêmio Nobel?</font>"
   ]
  },
  {
   "attachments": {},
   "cell_type": "markdown",
   "metadata": {},
   "source": [
    "<font color=\"orange\">Primeiro vou remover as datas da coluna \"Laureado\", para isso começamos removendo qualquer coisa entre os parênteses usando [RegEx](https://medium.com/xp-inc/regex-um-guia-pratico-para-express%C3%B5es-regulares-1ac5fa4dd39f).</font>"
   ]
  },
  {
   "cell_type": "code",
   "execution_count": 10,
   "metadata": {},
   "outputs": [
    {
     "name": "stderr",
     "output_type": "stream",
     "text": [
      "/tmp/ipykernel_10001/1741914262.py:2: SettingWithCopyWarning: \n",
      "A value is trying to be set on a copy of a slice from a DataFrame.\n",
      "Try using .loc[row_indexer,col_indexer] = value instead\n",
      "\n",
      "See the caveats in the documentation: https://pandas.pydata.org/pandas-docs/stable/user_guide/indexing.html#returning-a-view-versus-a-copy\n",
      "  nobel_df['Laureado'] = nobel_df['Laureado'].str.replace('\\(.+?\\)', '', regex=True)\n"
     ]
    }
   ],
   "source": [
    "# Assim:\n",
    "nobel_df['Laureado'] = nobel_df['Laureado'].str.replace('\\(.+?\\)', '', regex=True)\n",
    "\n",
    "\n",
    "\n",
    "# ou assim:\n",
    "\n",
    "# import re\n",
    "\n",
    "# def Delete_Date(text):\n",
    "#     text = re.sub(r'\\(.+?\\)', '', text)\n",
    "#     return text\n",
    "\n",
    "\n",
    "# nobel_df['Laureado'] = nobel_df['Laureado'].apply(lambda x: Delete_Date(x))"
   ]
  },
  {
   "cell_type": "code",
   "execution_count": 11,
   "metadata": {},
   "outputs": [
    {
     "data": {
      "text/html": [
       "<div>\n",
       "<style scoped>\n",
       "    .dataframe tbody tr th:only-of-type {\n",
       "        vertical-align: middle;\n",
       "    }\n",
       "\n",
       "    .dataframe tbody tr th {\n",
       "        vertical-align: top;\n",
       "    }\n",
       "\n",
       "    .dataframe thead th {\n",
       "        text-align: right;\n",
       "    }\n",
       "</style>\n",
       "<table border=\"1\" class=\"dataframe\">\n",
       "  <thead>\n",
       "    <tr style=\"text-align: right;\">\n",
       "      <th></th>\n",
       "      <th>Ano</th>\n",
       "      <th>Laureado</th>\n",
       "      <th>País</th>\n",
       "      <th>Justificativa</th>\n",
       "    </tr>\n",
       "  </thead>\n",
       "  <tbody>\n",
       "    <tr>\n",
       "      <th>0</th>\n",
       "      <td>1901</td>\n",
       "      <td>Wilhelm Röntgen</td>\n",
       "      <td>German Empire</td>\n",
       "      <td>\"in recognition of the extraordinary services ...</td>\n",
       "    </tr>\n",
       "    <tr>\n",
       "      <th>1</th>\n",
       "      <td>1902</td>\n",
       "      <td>Hendrik Lorentz</td>\n",
       "      <td>Netherlands</td>\n",
       "      <td>\"in recognition of the extraordinary service t...</td>\n",
       "    </tr>\n",
       "    <tr>\n",
       "      <th>2</th>\n",
       "      <td>1902</td>\n",
       "      <td>Pieter Zeeman</td>\n",
       "      <td>Netherlands</td>\n",
       "      <td>\"in recognition of the extraordinary service t...</td>\n",
       "    </tr>\n",
       "    <tr>\n",
       "      <th>3</th>\n",
       "      <td>1903</td>\n",
       "      <td>Antoine Henri Becquerel</td>\n",
       "      <td>France</td>\n",
       "      <td>\"for his discovery of spontaneous radioactivity\"</td>\n",
       "    </tr>\n",
       "    <tr>\n",
       "      <th>4</th>\n",
       "      <td>1903</td>\n",
       "      <td>Pierre Curie</td>\n",
       "      <td>France</td>\n",
       "      <td>\"for their joint researches on the radiation p...</td>\n",
       "    </tr>\n",
       "  </tbody>\n",
       "</table>\n",
       "</div>"
      ],
      "text/plain": [
       "    Ano                  Laureado           País  \\\n",
       "0  1901          Wilhelm Röntgen   German Empire   \n",
       "1  1902          Hendrik Lorentz     Netherlands   \n",
       "2  1902            Pieter Zeeman     Netherlands   \n",
       "3  1903  Antoine Henri Becquerel          France   \n",
       "4  1903             Pierre Curie          France   \n",
       "\n",
       "                                       Justificativa  \n",
       "0  \"in recognition of the extraordinary services ...  \n",
       "1  \"in recognition of the extraordinary service t...  \n",
       "2  \"in recognition of the extraordinary service t...  \n",
       "3   \"for his discovery of spontaneous radioactivity\"  \n",
       "4  \"for their joint researches on the radiation p...  "
      ]
     },
     "execution_count": 11,
     "metadata": {},
     "output_type": "execute_result"
    }
   ],
   "source": [
    "nobel_df.head()"
   ]
  },
  {
   "cell_type": "code",
   "execution_count": 12,
   "metadata": {},
   "outputs": [
    {
     "name": "stderr",
     "output_type": "stream",
     "text": [
      "/tmp/ipykernel_10001/3101072319.py:2: SettingWithCopyWarning: \n",
      "A value is trying to be set on a copy of a slice from a DataFrame.\n",
      "Try using .loc[row_indexer,col_indexer] = value instead\n",
      "\n",
      "See the caveats in the documentation: https://pandas.pydata.org/pandas-docs/stable/user_guide/indexing.html#returning-a-view-versus-a-copy\n",
      "  nobel_df['Laureado'] = nobel_df['Laureado'].str.strip()\n"
     ]
    }
   ],
   "source": [
    "# Removemos os espaços em branco desnecessários:\n",
    "nobel_df['Laureado'] = nobel_df['Laureado'].str.strip()\n",
    "\n"
   ]
  },
  {
   "cell_type": "code",
   "execution_count": 13,
   "metadata": {},
   "outputs": [
    {
     "data": {
      "text/html": [
       "<div>\n",
       "<style scoped>\n",
       "    .dataframe tbody tr th:only-of-type {\n",
       "        vertical-align: middle;\n",
       "    }\n",
       "\n",
       "    .dataframe tbody tr th {\n",
       "        vertical-align: top;\n",
       "    }\n",
       "\n",
       "    .dataframe thead th {\n",
       "        text-align: right;\n",
       "    }\n",
       "</style>\n",
       "<table border=\"1\" class=\"dataframe\">\n",
       "  <thead>\n",
       "    <tr style=\"text-align: right;\">\n",
       "      <th></th>\n",
       "      <th>Ano</th>\n",
       "      <th>Laureado</th>\n",
       "      <th>País</th>\n",
       "      <th>Justificativa</th>\n",
       "    </tr>\n",
       "  </thead>\n",
       "  <tbody>\n",
       "    <tr>\n",
       "      <th>0</th>\n",
       "      <td>1901</td>\n",
       "      <td>Wilhelm Röntgen</td>\n",
       "      <td>German Empire</td>\n",
       "      <td>\"in recognition of the extraordinary services ...</td>\n",
       "    </tr>\n",
       "    <tr>\n",
       "      <th>1</th>\n",
       "      <td>1902</td>\n",
       "      <td>Hendrik Lorentz</td>\n",
       "      <td>Netherlands</td>\n",
       "      <td>\"in recognition of the extraordinary service t...</td>\n",
       "    </tr>\n",
       "    <tr>\n",
       "      <th>2</th>\n",
       "      <td>1902</td>\n",
       "      <td>Pieter Zeeman</td>\n",
       "      <td>Netherlands</td>\n",
       "      <td>\"in recognition of the extraordinary service t...</td>\n",
       "    </tr>\n",
       "    <tr>\n",
       "      <th>3</th>\n",
       "      <td>1903</td>\n",
       "      <td>Antoine Henri Becquerel</td>\n",
       "      <td>France</td>\n",
       "      <td>\"for his discovery of spontaneous radioactivity\"</td>\n",
       "    </tr>\n",
       "    <tr>\n",
       "      <th>4</th>\n",
       "      <td>1903</td>\n",
       "      <td>Pierre Curie</td>\n",
       "      <td>France</td>\n",
       "      <td>\"for their joint researches on the radiation p...</td>\n",
       "    </tr>\n",
       "  </tbody>\n",
       "</table>\n",
       "</div>"
      ],
      "text/plain": [
       "    Ano                 Laureado           País  \\\n",
       "0  1901          Wilhelm Röntgen  German Empire   \n",
       "1  1902          Hendrik Lorentz    Netherlands   \n",
       "2  1902            Pieter Zeeman    Netherlands   \n",
       "3  1903  Antoine Henri Becquerel         France   \n",
       "4  1903             Pierre Curie         France   \n",
       "\n",
       "                                       Justificativa  \n",
       "0  \"in recognition of the extraordinary services ...  \n",
       "1  \"in recognition of the extraordinary service t...  \n",
       "2  \"in recognition of the extraordinary service t...  \n",
       "3   \"for his discovery of spontaneous radioactivity\"  \n",
       "4  \"for their joint researches on the radiation p...  "
      ]
     },
     "execution_count": 13,
     "metadata": {},
     "output_type": "execute_result"
    }
   ],
   "source": [
    "nobel_df.head()"
   ]
  },
  {
   "attachments": {},
   "cell_type": "markdown",
   "metadata": {},
   "source": [
    "<font color=\"orange\">Obtemos o número único de Físicos:</font>"
   ]
  },
  {
   "cell_type": "code",
   "execution_count": 14,
   "metadata": {},
   "outputs": [
    {
     "data": {
      "text/plain": [
       "221"
      ]
     },
     "execution_count": 14,
     "metadata": {},
     "output_type": "execute_result"
    }
   ],
   "source": [
    "nobel_df['Laureado'].nunique()"
   ]
  },
  {
   "attachments": {},
   "cell_type": "markdown",
   "metadata": {},
   "source": [
    "<font color=\"orange\">E podemos obter, também, os nomes desses únicos Físicos:</font>"
   ]
  },
  {
   "cell_type": "code",
   "execution_count": 15,
   "metadata": {},
   "outputs": [
    {
     "data": {
      "text/plain": [
       "array(['Wilhelm Röntgen', 'Hendrik Lorentz', 'Pieter Zeeman',\n",
       "       'Antoine Henri Becquerel', 'Pierre Curie',\n",
       "       'Marie Skłodowska-Curie', 'Lord Rayleigh',\n",
       "       'Philipp Eduard Anton von Lenard', 'Joseph John Thomson',\n",
       "       'Albert Abraham Michelson', 'Gabriel Lippmann',\n",
       "       'Guglielmo Marconi', 'Karl Ferdinand Braun',\n",
       "       'Johannes Diderik van der Waals', 'Wilhelm Wien',\n",
       "       'Nils Gustaf Dalén', 'Heike Kamerlingh-Onnes', 'Max von Laue',\n",
       "       'William Henry Bragg', 'William Lawrence Bragg',\n",
       "       'Charles Glover Barkla', 'Max Planck', 'Johannes Stark',\n",
       "       'Charles Édouard Guillaume', 'Albert Einstein', 'Niels Bohr',\n",
       "       'Robert Andrews Millikan', 'Manne Siegbahn', 'James Franck',\n",
       "       'Gustav Hertz', 'Jean Baptiste Perrin', 'Arthur Holly Compton',\n",
       "       'Charles Thomson Rees Wilson', 'Owen Willans Richardson',\n",
       "       'Louis Victor Pierre Raymond, 7th Duc de Broglie',\n",
       "       'Chandrasekhara Venkata Raman', 'Werner Heisenberg',\n",
       "       'Erwin Schrödinger', 'Paul Dirac', 'James Chadwick',\n",
       "       'Victor Francis Hess', 'Carl David Anderson',\n",
       "       'Clinton Joseph Davisson', 'George Paget Thomson', 'Enrico Fermi',\n",
       "       'Ernest Lawrence', 'Otto Stern', 'Isidor Isaac Rabi',\n",
       "       'Wolfgang Pauli', 'Percy Williams Bridgman',\n",
       "       'Edward Victor Appleton', 'Patrick Maynard Stuart Blackett',\n",
       "       'Hideki Yukawa', 'Cecil Frank Powell', 'John Douglas Cockcroft',\n",
       "       'Ernest Thomas Sinton Walton', 'Felix Bloch',\n",
       "       'Edward Mills Purcell', 'Frits Zernike', 'Max Born',\n",
       "       'Walther Bothe', 'Willis Eugene Lamb', 'Polykarp Kusch',\n",
       "       'John Bardeen', 'Walter Houser Brattain',\n",
       "       'William Bradford Shockley', 'Tsung-Dao Lee', 'Chen-Ning Yang',\n",
       "       'Pavel Alekseyevich Cherenkov', 'Ilya Frank',\n",
       "       'Igor Yevgenyevich Tamm', 'Emilio Gino Segrè', 'Owen Chamberlain',\n",
       "       'Donald Arthur Glaser', 'Robert Hofstadter',\n",
       "       'Rudolf Ludwig Mössbauer', 'Lev Davidovich Landau',\n",
       "       'Eugene Paul Wigner', 'Maria Goeppert-Mayer', 'J. Hans D. Jensen',\n",
       "       'Nicolay Gennadiyevich Basov', 'Alexander Prokhorov',\n",
       "       'Charles Hard Townes', 'Richard Phillips Feynman',\n",
       "       'Julian Schwinger', \"Shin'ichirō Tomonaga\", 'Alfred Kastler',\n",
       "       'Hans Albrecht Bethe', 'Luis Walter Alvarez', 'Murray Gell-Mann',\n",
       "       'Hannes Olof Gösta Alfvén', 'Louis Néel', 'Dennis Gabor',\n",
       "       'Leon Neil Cooper', 'John Robert Schrieffer', 'Leo Esaki',\n",
       "       'Ivar Giaever', 'Brian David Josephson', 'Martin Ryle',\n",
       "       'Antony Hewish', 'Aage Bohr', 'Ben Roy Mottelson',\n",
       "       'Leo James Rainwater', 'Samuel Chao Chung Ting', 'Burton Richter',\n",
       "       'Philip Warren Anderson', 'Nevill Francis Mott',\n",
       "       'John Hasbrouck Van Vleck', 'Pyotr Leonidovich Kapitsa',\n",
       "       'Arno Allan Penzias', 'Robert Woodrow Wilson', 'Sheldon Glashow',\n",
       "       'Abdus Salam', 'Steven Weinberg', 'James Watson Cronin',\n",
       "       'Val Logsdon Fitch', 'Nicolaas Bloembergen',\n",
       "       'Arthur Leonard Schawlow', 'Kai Manne Börje Siegbahn',\n",
       "       'Kenneth G. Wilson', 'Subrahmanyan Chandrasekhar',\n",
       "       'William Alfred Fowler', 'Carlo Rubbia', 'Simon van der Meer',\n",
       "       'Klaus von Klitzing', 'Ernst Ruska', 'Gerd Binnig',\n",
       "       'Heinrich Rohrer', 'Johannes Georg Bednorz',\n",
       "       'Karl Alexander Müller', 'Leon Max Lederman', 'Melvin Schwartz',\n",
       "       'Jack Steinberger', 'Norman Foster Ramsey', 'Hans Georg Dehmelt',\n",
       "       'Wolfgang Paul', 'Jerome I. Friedman', 'Henry Way Kendall',\n",
       "       'Richard E. Taylor', 'Pierre-Gilles de Gennes', 'Georges Charpak',\n",
       "       'Russell Alan Hulse', 'Joseph Hooton Taylor Jr.',\n",
       "       'Bertram Brockhouse', 'Clifford Glenwood Shull',\n",
       "       'Martin Lewis Perl', 'Frederick Reines', 'David Morris Lee',\n",
       "       'Douglas D. Osheroff', 'Robert Coleman Richardson', 'Steven Chu',\n",
       "       'Claude Cohen-Tannoudji', 'William Daniel Phillips',\n",
       "       'Robert B. Laughlin', 'Horst Ludwig Störmer', 'Daniel Chee Tsui',\n",
       "       \"Gerard 't Hooft\", 'Martinus J. G. Veltman',\n",
       "       'Zhores Ivanovich Alferov', 'Herbert Kroemer',\n",
       "       'Jack St. Clair Kilby', 'Eric Allin Cornell', 'Carl Edwin Wieman',\n",
       "       'Wolfgang Ketterle', 'Raymond Davis Jr.', 'Masatoshi Koshiba',\n",
       "       'Riccardo Giacconi', 'Alexei Alexeyevich Abrikosov',\n",
       "       'Vitaly Lazarevich Ginzburg', 'Anthony James Leggett',\n",
       "       'David J. Gross', 'Hugh David Politzer', 'Frank Wilczek',\n",
       "       'Roy J. Glauber', 'John L. Hall', 'Theodor W. Hänsch',\n",
       "       'John C. Mather', 'George F. Smoot', 'Albert Fert',\n",
       "       'Peter Grünberg', 'Makoto Kobayashi', 'Toshihide Maskawa',\n",
       "       'Yoichiro Nambu', 'Charles K. Kao', 'Willard S. Boyle',\n",
       "       'George E. Smith', 'Andre Geim', 'Konstantin Novoselov',\n",
       "       'Saul Perlmutter', 'Brian P. Schmidt', 'Adam G. Riess',\n",
       "       'Serge Haroche', 'David J. Wineland', 'François Englert',\n",
       "       'Peter Higgs', 'Isamu Akasaki', 'Hiroshi Amano', 'Shuji Nakamura',\n",
       "       'Takaaki Kajita', 'Arthur B. McDonald', 'David J. Thouless',\n",
       "       'F. Duncan M. Haldane', 'John M. Kosterlitz', 'Rainer Weiss',\n",
       "       'Kip Thorne', 'Barry Barish', 'Arthur Ashkin', 'Gérard Mourou',\n",
       "       'Donna Strickland', 'James Peebles', 'Michel Mayor',\n",
       "       'Didier Queloz', 'Roger Penrose', 'Reinhard Genzel', 'Andrea Ghez',\n",
       "       'Syukuro Manabe', 'Klaus Hasselmann', 'Giorgio Parisi',\n",
       "       'Alain Aspect', 'John Clauser', 'Anton Zeilinger'], dtype=object)"
      ]
     },
     "execution_count": 15,
     "metadata": {},
     "output_type": "execute_result"
    }
   ],
   "source": [
    "nobel_df['Laureado'].unique()"
   ]
  },
  {
   "attachments": {},
   "cell_type": "markdown",
   "metadata": {},
   "source": [
    "## <font color=\"pink\">Quantos países estão neste conjunto de Dados?</font>"
   ]
  },
  {
   "attachments": {},
   "cell_type": "markdown",
   "metadata": {},
   "source": [
    "<font color=\"orange\">Devemos ter cuidado com possíveis Dados duplicados. A seguir, vamos limpar a coluna \"País\".</font>"
   ]
  },
  {
   "cell_type": "code",
   "execution_count": 16,
   "metadata": {},
   "outputs": [
    {
     "data": {
      "text/html": [
       "<div>\n",
       "<style scoped>\n",
       "    .dataframe tbody tr th:only-of-type {\n",
       "        vertical-align: middle;\n",
       "    }\n",
       "\n",
       "    .dataframe tbody tr th {\n",
       "        vertical-align: top;\n",
       "    }\n",
       "\n",
       "    .dataframe thead th {\n",
       "        text-align: right;\n",
       "    }\n",
       "</style>\n",
       "<table border=\"1\" class=\"dataframe\">\n",
       "  <thead>\n",
       "    <tr style=\"text-align: right;\">\n",
       "      <th></th>\n",
       "      <th>Ano</th>\n",
       "      <th>Laureado</th>\n",
       "      <th>País</th>\n",
       "      <th>Justificativa</th>\n",
       "    </tr>\n",
       "  </thead>\n",
       "  <tbody>\n",
       "    <tr>\n",
       "      <th>0</th>\n",
       "      <td>1901</td>\n",
       "      <td>Wilhelm Röntgen</td>\n",
       "      <td>German Empire</td>\n",
       "      <td>\"in recognition of the extraordinary services ...</td>\n",
       "    </tr>\n",
       "    <tr>\n",
       "      <th>1</th>\n",
       "      <td>1902</td>\n",
       "      <td>Hendrik Lorentz</td>\n",
       "      <td>Netherlands</td>\n",
       "      <td>\"in recognition of the extraordinary service t...</td>\n",
       "    </tr>\n",
       "    <tr>\n",
       "      <th>2</th>\n",
       "      <td>1902</td>\n",
       "      <td>Pieter Zeeman</td>\n",
       "      <td>Netherlands</td>\n",
       "      <td>\"in recognition of the extraordinary service t...</td>\n",
       "    </tr>\n",
       "    <tr>\n",
       "      <th>3</th>\n",
       "      <td>1903</td>\n",
       "      <td>Antoine Henri Becquerel</td>\n",
       "      <td>France</td>\n",
       "      <td>\"for his discovery of spontaneous radioactivity\"</td>\n",
       "    </tr>\n",
       "    <tr>\n",
       "      <th>4</th>\n",
       "      <td>1903</td>\n",
       "      <td>Pierre Curie</td>\n",
       "      <td>France</td>\n",
       "      <td>\"for their joint researches on the radiation p...</td>\n",
       "    </tr>\n",
       "    <tr>\n",
       "      <th>5</th>\n",
       "      <td>1903</td>\n",
       "      <td>Marie Skłodowska-Curie</td>\n",
       "      <td>Poland  France</td>\n",
       "      <td>\"for their joint researches on the radiation p...</td>\n",
       "    </tr>\n",
       "    <tr>\n",
       "      <th>6</th>\n",
       "      <td>1904</td>\n",
       "      <td>Lord Rayleigh</td>\n",
       "      <td>United Kingdom</td>\n",
       "      <td>\"for his investigations of the densities of th...</td>\n",
       "    </tr>\n",
       "    <tr>\n",
       "      <th>7</th>\n",
       "      <td>1905</td>\n",
       "      <td>Philipp Eduard Anton von Lenard</td>\n",
       "      <td>Austria-Hungary  German Empire</td>\n",
       "      <td>\"for his work on cathode rays\"</td>\n",
       "    </tr>\n",
       "    <tr>\n",
       "      <th>8</th>\n",
       "      <td>1906</td>\n",
       "      <td>Joseph John Thomson</td>\n",
       "      <td>United Kingdom</td>\n",
       "      <td>\"for his theoretical and experimental investig...</td>\n",
       "    </tr>\n",
       "    <tr>\n",
       "      <th>9</th>\n",
       "      <td>1907</td>\n",
       "      <td>Albert Abraham Michelson</td>\n",
       "      <td>German Empire  United States</td>\n",
       "      <td>\"for his optical precision instruments and the...</td>\n",
       "    </tr>\n",
       "  </tbody>\n",
       "</table>\n",
       "</div>"
      ],
      "text/plain": [
       "    Ano                         Laureado                            País  \\\n",
       "0  1901                  Wilhelm Röntgen                   German Empire   \n",
       "1  1902                  Hendrik Lorentz                     Netherlands   \n",
       "2  1902                    Pieter Zeeman                     Netherlands   \n",
       "3  1903          Antoine Henri Becquerel                          France   \n",
       "4  1903                     Pierre Curie                          France   \n",
       "5  1903           Marie Skłodowska-Curie                  Poland  France   \n",
       "6  1904                    Lord Rayleigh                  United Kingdom   \n",
       "7  1905  Philipp Eduard Anton von Lenard  Austria-Hungary  German Empire   \n",
       "8  1906              Joseph John Thomson                  United Kingdom   \n",
       "9  1907         Albert Abraham Michelson    German Empire  United States   \n",
       "\n",
       "                                       Justificativa  \n",
       "0  \"in recognition of the extraordinary services ...  \n",
       "1  \"in recognition of the extraordinary service t...  \n",
       "2  \"in recognition of the extraordinary service t...  \n",
       "3   \"for his discovery of spontaneous radioactivity\"  \n",
       "4  \"for their joint researches on the radiation p...  \n",
       "5  \"for their joint researches on the radiation p...  \n",
       "6  \"for his investigations of the densities of th...  \n",
       "7                     \"for his work on cathode rays\"  \n",
       "8  \"for his theoretical and experimental investig...  \n",
       "9  \"for his optical precision instruments and the...  "
      ]
     },
     "execution_count": 16,
     "metadata": {},
     "output_type": "execute_result"
    }
   ],
   "source": [
    "nobel_df.head(10)"
   ]
  },
  {
   "cell_type": "code",
   "execution_count": 17,
   "metadata": {},
   "outputs": [
    {
     "data": {
      "text/plain": [
       "'Poland \\xa0France'"
      ]
     },
     "execution_count": 17,
     "metadata": {},
     "output_type": "execute_result"
    }
   ],
   "source": [
    "# Reparamos que ao \"printar\" da seguinte forma, aparece \\xa0:\n",
    "nobel_df['País'].loc[5]"
   ]
  },
  {
   "cell_type": "code",
   "execution_count": 21,
   "metadata": {},
   "outputs": [
    {
     "name": "stderr",
     "output_type": "stream",
     "text": [
      "/tmp/ipykernel_10001/286120648.py:2: SettingWithCopyWarning: \n",
      "A value is trying to be set on a copy of a slice from a DataFrame.\n",
      "Try using .loc[row_indexer,col_indexer] = value instead\n",
      "\n",
      "See the caveats in the documentation: https://pandas.pydata.org/pandas-docs/stable/user_guide/indexing.html#returning-a-view-versus-a-copy\n",
      "  nobel_df['País'] = nobel_df['País'].str.replace('\\[.+?\\]', '', regex=True)\n"
     ]
    }
   ],
   "source": [
    "# Removemos qualquer coisa entre colchetes usando RegEx:\n",
    "nobel_df['País'] = nobel_df['País'].str.replace('\\[.+?\\]', '', regex=True)"
   ]
  },
  {
   "attachments": {},
   "cell_type": "markdown",
   "metadata": {},
   "source": [
    "<font color=\"orange\">Alguns laureados têm vários países associados a eles. Curiosamente, a `Wikipedia` usa o `caractere ascii` `“\\xa0“` (espaço sem quebra em Latin1 (`ISO 8859-1`)) para separar os diferentes países para a mesma pessoa.</font>"
   ]
  },
  {
   "cell_type": "code",
   "execution_count": 22,
   "metadata": {},
   "outputs": [
    {
     "data": {
      "text/plain": [
       "0      'German Empire'\n",
       "1        'Netherlands'\n",
       "2        'Netherlands'\n",
       "3             'France'\n",
       "4             'France'\n",
       "            ...       \n",
       "217          'Germany'\n",
       "218            'Italy'\n",
       "219           'France'\n",
       "220    'United States'\n",
       "221          'Austria'\n",
       "Name: País, Length: 222, dtype: object"
      ]
     },
     "execution_count": 22,
     "metadata": {},
     "output_type": "execute_result"
    }
   ],
   "source": [
    "nobel_df['País'].apply(ascii)"
   ]
  },
  {
   "cell_type": "code",
   "execution_count": 23,
   "metadata": {},
   "outputs": [
    {
     "data": {
      "text/html": [
       "<div>\n",
       "<style scoped>\n",
       "    .dataframe tbody tr th:only-of-type {\n",
       "        vertical-align: middle;\n",
       "    }\n",
       "\n",
       "    .dataframe tbody tr th {\n",
       "        vertical-align: top;\n",
       "    }\n",
       "\n",
       "    .dataframe thead th {\n",
       "        text-align: right;\n",
       "    }\n",
       "</style>\n",
       "<table border=\"1\" class=\"dataframe\">\n",
       "  <thead>\n",
       "    <tr style=\"text-align: right;\">\n",
       "      <th></th>\n",
       "      <th>Ano</th>\n",
       "      <th>Laureado</th>\n",
       "      <th>País</th>\n",
       "      <th>Justificativa</th>\n",
       "    </tr>\n",
       "  </thead>\n",
       "  <tbody>\n",
       "    <tr>\n",
       "      <th>0</th>\n",
       "      <td>1901</td>\n",
       "      <td>Wilhelm Röntgen</td>\n",
       "      <td>German Empire</td>\n",
       "      <td>\"in recognition of the extraordinary services ...</td>\n",
       "    </tr>\n",
       "    <tr>\n",
       "      <th>1</th>\n",
       "      <td>1902</td>\n",
       "      <td>Hendrik Lorentz</td>\n",
       "      <td>Netherlands</td>\n",
       "      <td>\"in recognition of the extraordinary service t...</td>\n",
       "    </tr>\n",
       "    <tr>\n",
       "      <th>2</th>\n",
       "      <td>1902</td>\n",
       "      <td>Pieter Zeeman</td>\n",
       "      <td>Netherlands</td>\n",
       "      <td>\"in recognition of the extraordinary service t...</td>\n",
       "    </tr>\n",
       "    <tr>\n",
       "      <th>3</th>\n",
       "      <td>1903</td>\n",
       "      <td>Antoine Henri Becquerel</td>\n",
       "      <td>France</td>\n",
       "      <td>\"for his discovery of spontaneous radioactivity\"</td>\n",
       "    </tr>\n",
       "    <tr>\n",
       "      <th>4</th>\n",
       "      <td>1903</td>\n",
       "      <td>Pierre Curie</td>\n",
       "      <td>France</td>\n",
       "      <td>\"for their joint researches on the radiation p...</td>\n",
       "    </tr>\n",
       "    <tr>\n",
       "      <th>5</th>\n",
       "      <td>1903</td>\n",
       "      <td>Marie Skłodowska-Curie</td>\n",
       "      <td>Poland  France</td>\n",
       "      <td>\"for their joint researches on the radiation p...</td>\n",
       "    </tr>\n",
       "    <tr>\n",
       "      <th>6</th>\n",
       "      <td>1904</td>\n",
       "      <td>Lord Rayleigh</td>\n",
       "      <td>United Kingdom</td>\n",
       "      <td>\"for his investigations of the densities of th...</td>\n",
       "    </tr>\n",
       "    <tr>\n",
       "      <th>7</th>\n",
       "      <td>1905</td>\n",
       "      <td>Philipp Eduard Anton von Lenard</td>\n",
       "      <td>Austria-Hungary  German Empire</td>\n",
       "      <td>\"for his work on cathode rays\"</td>\n",
       "    </tr>\n",
       "    <tr>\n",
       "      <th>8</th>\n",
       "      <td>1906</td>\n",
       "      <td>Joseph John Thomson</td>\n",
       "      <td>United Kingdom</td>\n",
       "      <td>\"for his theoretical and experimental investig...</td>\n",
       "    </tr>\n",
       "    <tr>\n",
       "      <th>9</th>\n",
       "      <td>1907</td>\n",
       "      <td>Albert Abraham Michelson</td>\n",
       "      <td>German Empire  United States</td>\n",
       "      <td>\"for his optical precision instruments and the...</td>\n",
       "    </tr>\n",
       "  </tbody>\n",
       "</table>\n",
       "</div>"
      ],
      "text/plain": [
       "    Ano                         Laureado                            País  \\\n",
       "0  1901                  Wilhelm Röntgen                   German Empire   \n",
       "1  1902                  Hendrik Lorentz                     Netherlands   \n",
       "2  1902                    Pieter Zeeman                     Netherlands   \n",
       "3  1903          Antoine Henri Becquerel                          France   \n",
       "4  1903                     Pierre Curie                          France   \n",
       "5  1903           Marie Skłodowska-Curie                  Poland  France   \n",
       "6  1904                    Lord Rayleigh                  United Kingdom   \n",
       "7  1905  Philipp Eduard Anton von Lenard  Austria-Hungary  German Empire   \n",
       "8  1906              Joseph John Thomson                  United Kingdom   \n",
       "9  1907         Albert Abraham Michelson    German Empire  United States   \n",
       "\n",
       "                                       Justificativa  \n",
       "0  \"in recognition of the extraordinary services ...  \n",
       "1  \"in recognition of the extraordinary service t...  \n",
       "2  \"in recognition of the extraordinary service t...  \n",
       "3   \"for his discovery of spontaneous radioactivity\"  \n",
       "4  \"for their joint researches on the radiation p...  \n",
       "5  \"for their joint researches on the radiation p...  \n",
       "6  \"for his investigations of the densities of th...  \n",
       "7                     \"for his work on cathode rays\"  \n",
       "8  \"for his theoretical and experimental investig...  \n",
       "9  \"for his optical precision instruments and the...  "
      ]
     },
     "execution_count": 23,
     "metadata": {},
     "output_type": "execute_result"
    }
   ],
   "source": [
    "nobel_df.head(10)"
   ]
  },
  {
   "cell_type": "code",
   "execution_count": 24,
   "metadata": {},
   "outputs": [
    {
     "data": {
      "text/plain": [
       "'Poland \\xa0France'"
      ]
     },
     "execution_count": 24,
     "metadata": {},
     "output_type": "execute_result"
    }
   ],
   "source": [
    "nobel_df['País'].loc[5]"
   ]
  },
  {
   "attachments": {},
   "cell_type": "markdown",
   "metadata": {},
   "source": [
    "<font color=\"orange\">Assim, podemos dividir cada linha por esse caractere:</font>"
   ]
  },
  {
   "cell_type": "code",
   "execution_count": 25,
   "metadata": {},
   "outputs": [
    {
     "data": {
      "text/plain": [
       "0      [German Empire]\n",
       "1        [Netherlands]\n",
       "2        [Netherlands]\n",
       "3             [France]\n",
       "4             [France]\n",
       "            ...       \n",
       "217          [Germany]\n",
       "218            [Italy]\n",
       "219           [France]\n",
       "220    [United States]\n",
       "221          [Austria]\n",
       "Name: País, Length: 222, dtype: object"
      ]
     },
     "execution_count": 25,
     "metadata": {},
     "output_type": "execute_result"
    }
   ],
   "source": [
    "nobel_df['País'].str.split('\\xa0')"
   ]
  },
  {
   "attachments": {},
   "cell_type": "markdown",
   "metadata": {},
   "source": [
    "<font color=\"orange\">E podemos achatar (`Flatten`) tudo em uma lista:</font>"
   ]
  },
  {
   "cell_type": "code",
   "execution_count": 33,
   "metadata": {},
   "outputs": [
    {
     "data": {
      "text/plain": [
       "['German Empire',\n",
       " 'Netherlands',\n",
       " 'Netherlands',\n",
       " 'France',\n",
       " 'France',\n",
       " 'Poland ',\n",
       " 'France',\n",
       " 'United Kingdom',\n",
       " 'Austria-Hungary ',\n",
       " 'German Empire',\n",
       " 'United Kingdom',\n",
       " 'German Empire ',\n",
       " 'United States',\n",
       " 'France',\n",
       " 'Kingdom of Italy',\n",
       " 'German Empire',\n",
       " 'Netherlands',\n",
       " 'German Empire',\n",
       " 'Sweden',\n",
       " 'Netherlands',\n",
       " 'German Empire',\n",
       " 'United Kingdom',\n",
       " 'United Kingdom',\n",
       " 'United Kingdom',\n",
       " 'German Empire',\n",
       " 'Weimar Republic',\n",
       " 'Switzerland',\n",
       " 'Weimar Republic ',\n",
       " 'Switzerland',\n",
       " 'Denmark',\n",
       " 'United States',\n",
       " 'Sweden',\n",
       " 'Weimar Republic',\n",
       " 'Weimar Republic',\n",
       " 'France',\n",
       " 'United States',\n",
       " 'United Kingdom',\n",
       " 'United Kingdom',\n",
       " 'France',\n",
       " 'India',\n",
       " 'Weimar Republic',\n",
       " 'Austria',\n",
       " 'United Kingdom',\n",
       " 'United Kingdom',\n",
       " 'Austria',\n",
       " 'United States',\n",
       " 'United States',\n",
       " 'United Kingdom',\n",
       " 'Kingdom of Italy',\n",
       " 'United States',\n",
       " 'United States',\n",
       " 'United States',\n",
       " 'Austria',\n",
       " 'United States',\n",
       " 'United Kingdom',\n",
       " 'United Kingdom',\n",
       " 'Japan',\n",
       " 'United Kingdom',\n",
       " 'United Kingdom',\n",
       " 'Ireland',\n",
       " 'Switzerland ',\n",
       " 'United States',\n",
       " 'United States',\n",
       " 'Netherlands',\n",
       " 'West Germany',\n",
       " 'West Germany',\n",
       " 'United States',\n",
       " 'United States',\n",
       " 'United States',\n",
       " 'United States',\n",
       " 'United States',\n",
       " 'Republic of China',\n",
       " 'Republic of China',\n",
       " 'Soviet Union',\n",
       " 'Soviet Union',\n",
       " 'Soviet Union',\n",
       " 'Italy ',\n",
       " 'United States',\n",
       " 'United States',\n",
       " 'United States',\n",
       " 'United States',\n",
       " 'West Germany',\n",
       " 'Soviet Union',\n",
       " 'Hungary ',\n",
       " 'United States',\n",
       " 'German Empire ',\n",
       " 'United States',\n",
       " 'West Germany',\n",
       " 'Soviet Union',\n",
       " 'Soviet Union',\n",
       " 'United States',\n",
       " 'United States',\n",
       " 'United States',\n",
       " 'Japan',\n",
       " 'France',\n",
       " 'United States ',\n",
       " 'West Germany',\n",
       " 'United States',\n",
       " 'United States',\n",
       " 'Sweden',\n",
       " 'France',\n",
       " 'Hungary ',\n",
       " 'United Kingdom',\n",
       " 'United States',\n",
       " 'United States',\n",
       " 'United States',\n",
       " 'Japan',\n",
       " 'United States ',\n",
       " 'Norway',\n",
       " 'United Kingdom',\n",
       " 'United Kingdom',\n",
       " 'United Kingdom',\n",
       " 'Denmark',\n",
       " 'Denmark',\n",
       " 'United States',\n",
       " 'Republic of China ',\n",
       " 'United States',\n",
       " 'United States',\n",
       " 'United States',\n",
       " 'United Kingdom',\n",
       " 'United States',\n",
       " 'Soviet Union',\n",
       " 'United States',\n",
       " 'United States',\n",
       " 'United States',\n",
       " 'Pakistan',\n",
       " 'United States',\n",
       " 'United States',\n",
       " 'United States',\n",
       " 'Netherlands ',\n",
       " 'United States',\n",
       " 'United States',\n",
       " 'Sweden',\n",
       " 'United States',\n",
       " 'India ',\n",
       " 'United States',\n",
       " 'United States',\n",
       " 'Italy',\n",
       " 'Netherlands',\n",
       " 'West Germany',\n",
       " 'West Germany',\n",
       " 'West Germany',\n",
       " 'Switzerland',\n",
       " 'West Germany',\n",
       " 'Switzerland',\n",
       " 'United States',\n",
       " 'United States',\n",
       " 'United States',\n",
       " 'United States',\n",
       " 'United States ',\n",
       " 'West Germany',\n",
       " 'West Germany',\n",
       " 'United States',\n",
       " 'United States',\n",
       " 'Canada',\n",
       " 'France',\n",
       " 'France ',\n",
       " 'Poland',\n",
       " 'United States',\n",
       " 'United States',\n",
       " 'Canada',\n",
       " 'United States',\n",
       " 'United States',\n",
       " 'United States',\n",
       " 'United States',\n",
       " 'United States',\n",
       " 'United States',\n",
       " 'United States',\n",
       " 'France',\n",
       " 'United States',\n",
       " 'United States',\n",
       " 'Germany',\n",
       " 'Republic of China ',\n",
       " 'United States',\n",
       " 'Netherlands',\n",
       " 'Netherlands',\n",
       " 'Russia',\n",
       " 'Germany',\n",
       " 'United States',\n",
       " 'United States',\n",
       " 'United States',\n",
       " 'Germany',\n",
       " 'United States',\n",
       " 'Japan',\n",
       " 'Italy ',\n",
       " 'United States',\n",
       " 'Russia ',\n",
       " 'United States',\n",
       " 'Russia',\n",
       " 'United Kingdom ',\n",
       " 'United States',\n",
       " 'United States',\n",
       " 'United States',\n",
       " 'United States',\n",
       " 'United States',\n",
       " 'United States',\n",
       " 'Germany',\n",
       " 'United States',\n",
       " 'United States',\n",
       " 'France',\n",
       " 'Germany',\n",
       " 'Japan',\n",
       " 'Japan',\n",
       " 'Japan ',\n",
       " 'United States',\n",
       " 'Hong Kong ',\n",
       " 'United Kingdom ',\n",
       " 'United States',\n",
       " 'Canada ',\n",
       " 'United States',\n",
       " 'United States',\n",
       " 'Russia ',\n",
       " 'United Kingdom ',\n",
       " 'Netherlands',\n",
       " 'Russia ',\n",
       " 'United Kingdom',\n",
       " 'United States',\n",
       " 'Australia ',\n",
       " 'United States',\n",
       " 'United States',\n",
       " 'France',\n",
       " 'United States',\n",
       " 'Belgium',\n",
       " 'United Kingdom',\n",
       " 'Japan',\n",
       " 'Japan',\n",
       " 'Japan ',\n",
       " 'United States',\n",
       " 'Japan',\n",
       " 'Canada',\n",
       " 'United Kingdom',\n",
       " 'United Kingdom ',\n",
       " 'Slovenia',\n",
       " 'United Kingdom ',\n",
       " 'United States',\n",
       " 'Germany ',\n",
       " 'United States',\n",
       " 'United States',\n",
       " 'United States',\n",
       " 'United States',\n",
       " 'France',\n",
       " 'Canada',\n",
       " 'Canada ',\n",
       " 'United States',\n",
       " 'Switzerland',\n",
       " 'Switzerland',\n",
       " 'United Kingdom',\n",
       " 'Germany',\n",
       " 'United States',\n",
       " 'Japan ',\n",
       " 'United States',\n",
       " 'Germany',\n",
       " 'Italy',\n",
       " 'France',\n",
       " 'United States',\n",
       " 'Austria']"
      ]
     },
     "execution_count": 33,
     "metadata": {},
     "output_type": "execute_result"
    }
   ],
   "source": [
    "sum(nobel_df['País'].str.split('\\xa0').tolist(), [])\n"
   ]
  },
  {
   "attachments": {},
   "cell_type": "markdown",
   "metadata": {},
   "source": [
    "E agora, podemos simplesmente contar o número de países:"
   ]
  },
  {
   "cell_type": "code",
   "execution_count": 26,
   "metadata": {},
   "outputs": [
    {
     "data": {
      "text/plain": [
       "30"
      ]
     },
     "execution_count": 26,
     "metadata": {},
     "output_type": "execute_result"
    }
   ],
   "source": [
    "pd.Series(sum(nobel_df['País'].str.split('\\xa0').tolist(), [])).str.strip().nunique()\n"
   ]
  },
  {
   "attachments": {},
   "cell_type": "markdown",
   "metadata": {},
   "source": [
    "<font color=\"orange\">Vejamos a distribuição dos países:</font>\n",
    "\n",
    "* Imprimimos os países com o número de vezes que está contido na `série de pandas dos países`. Podemos usar a função [pd.Series.value_counts](https://pandas.pydata.org/docs/reference/api/pandas.Series.value_counts.html).\n",
    "\n",
    "* Traçamos um `barplot` ordenado por esses números. Podemos usar a função [pd.plot](https://pandas.pydata.org/docs/reference/api/pandas.DataFrame.plot.html) alterando o tipo do argumento."
   ]
  },
  {
   "cell_type": "code",
   "execution_count": 29,
   "metadata": {},
   "outputs": [
    {
     "data": {
      "text/plain": [
       "United States        99\n",
       "United Kingdom       28\n",
       "France               15\n",
       "Japan                12\n",
       "West Germany         11\n",
       "Netherlands          10\n",
       "German Empire         8\n",
       "Germany               8\n",
       "Switzerland           7\n",
       "Soviet Union          7\n",
       "Canada                6\n",
       "Russia                5\n",
       "Weimar Republic       5\n",
       "Sweden                4\n",
       "Italy                 4\n",
       "Austria               4\n",
       "Republic of China     4\n",
       "Denmark               3\n",
       "Hungary               2\n",
       "Poland                2\n",
       "Kingdom of Italy      2\n",
       "India                 2\n",
       "Belgium               1\n",
       "Australia             1\n",
       "Hong Kong             1\n",
       "Ireland               1\n",
       "Pakistan              1\n",
       "Norway                1\n",
       "Austria-Hungary       1\n",
       "Slovenia              1\n",
       "dtype: int64"
      ]
     },
     "execution_count": 29,
     "metadata": {},
     "output_type": "execute_result"
    }
   ],
   "source": [
    "# Criamos uma variável countries:\n",
    "countries = pd.Series(sum(nobel_df['País'].str.split('\\xa0').tolist(), [])).str.strip()\n",
    "\n",
    "# seguidamente contamos:\n",
    "countries.value_counts()\n"
   ]
  },
  {
   "attachments": {},
   "cell_type": "markdown",
   "metadata": {},
   "source": [
    "<font color=\"orange\">E Plotamos:</font>"
   ]
  },
  {
   "cell_type": "code",
   "execution_count": 44,
   "metadata": {},
   "outputs": [
    {
     "data": {
      "image/png": "[encoded data removed]",
      "text/plain": [
       "<Figure size 1200x700 with 1 Axes>"
      ]
     },
     "metadata": {},
     "output_type": "display_data"
    }
   ],
   "source": [
    "import matplotlib.pyplot as plt\n",
    "%matplotlib inline\n",
    "\n",
    "\n",
    "fig = plt.figure(figsize=(12, 7))\n",
    "countries.value_counts().plot.bar()\n",
    "plt.xlabel(\"Países\", c='r', size=20)\n",
    "plt.show()\n"
   ]
  },
  {
   "cell_type": "code",
   "execution_count": null,
   "metadata": {},
   "outputs": [],
   "source": []
  }
 ],
 "metadata": {
  "kernelspec": {
   "display_name": "venv_scraping",
   "language": "python",
   "name": "python3"
  },
  "language_info": {
   "codemirror_mode": {
    "name": "ipython",
    "version": 3
   },
   "file_extension": ".py",
   "mimetype": "text/x-python",
   "name": "python",
   "nbconvert_exporter": "python",
   "pygments_lexer": "ipython3",
   "version": "3.10.6"
  },
  "orig_nbformat": 4,
  "vscode": {
   "interpreter": {
    "hash": "4bd8e79813019b8a9d4861e7c60db3660dbab33db23387434b41f07de72f124f"
   }
  }
 },
 "nbformat": 4,
 "nbformat_minor": 2
}
