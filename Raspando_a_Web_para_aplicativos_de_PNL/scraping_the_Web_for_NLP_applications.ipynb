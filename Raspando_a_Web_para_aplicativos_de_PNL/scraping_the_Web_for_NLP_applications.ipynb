{
 "cells": [
  {
   "attachments": {},
   "cell_type": "markdown",
   "metadata": {},
   "source": [
    "<h1 align=\"center\"><font color=\"yellow\">Raspando (Scraping) a Web para aplicativos de PNL</font></h1>"
   ]
  },
  {
   "attachments": {},
   "cell_type": "markdown",
   "metadata": {},
   "source": [
    "<font color=\"yellow\">Data Scientist.: Dr.Eddy Giusepe Chirinos Isidro</font>"
   ]
  },
  {
   "attachments": {},
   "cell_type": "markdown",
   "metadata": {},
   "source": [
    "Este script esta baseado no site [The AiEdge NEWSLETTER do Damien Benveniste](https://newsletter.theaiedge.io/)"
   ]
  },
  {
   "attachments": {},
   "cell_type": "markdown",
   "metadata": {},
   "source": [
    "# Contexto"
   ]
  },
  {
   "attachments": {},
   "cell_type": "markdown",
   "metadata": {},
   "source": [
    "Hoje em dia, é fácil encontrar dados em qualquer lugar! Vamos vasculhar a web para extrair informações sobre os diferentes ganhadores do `Prêmio Nobel de Física`. Podemos encontrar essa lista na [primeira tabela deste link na Wikipédia](https://en.wikipedia.org/wiki/List_of_Nobel_laureates_in_Physics)."
   ]
  },
  {
   "attachments": {},
   "cell_type": "markdown",
   "metadata": {},
   "source": [
    "![](https://substackcdn.com/image/fetch/f_auto,q_auto:good,fl_progressive:steep/https%3A%2F%2Fsubstack-post-media.s3.amazonaws.com%2Fpublic%2Fimages%2Fa9769d35-7e7a-4d89-895f-f5cf3a814811_500x492.png)"
   ]
  },
  {
   "attachments": {},
   "cell_type": "markdown",
   "metadata": {},
   "source": [
    "Vamos extrair e usar os dados de texto de cada página da Wikipedia relacionada a esses laureados para construir `métricas de similaridade` e tentar prever qual `Física` eles praticaram."
   ]
  },
  {
   "attachments": {},
   "cell_type": "markdown",
   "metadata": {},
   "source": [
    "![](https://substackcdn.com/image/fetch/f_auto,q_auto:good,fl_progressive:steep/https%3A%2F%2Fsubstack-post-media.s3.amazonaws.com%2Fpublic%2Fimages%2F678e6fcf-94ea-4963-8f04-b600463db0c9_3178x2126.png)"
   ]
  },
  {
   "attachments": {},
   "cell_type": "markdown",
   "metadata": {},
   "source": [
    "# Preparando o Dataset dos Ganhadores do Prêmio Nobel"
   ]
  },
  {
   "attachments": {},
   "cell_type": "markdown",
   "metadata": {},
   "source": [
    "## <font color=\"red\">Obtendo os Dados</font>"
   ]
  },
  {
   "attachments": {},
   "cell_type": "markdown",
   "metadata": {},
   "source": [
    "Vamos obter os dados de todos os laureados com o [Prêmio Nobel de Física da Wikipedia](https://en.wikipedia.org/wiki/List_of_Nobel_laureates_in_Physics). Podemos usar [pd.read_html](https://pandas.pydata.org/docs/reference/api/pandas.read_html.html) para ler diretamente as tabelas da Wikipédia, assim:"
   ]
  },
  {
   "cell_type": "code",
   "execution_count": 62,
   "metadata": {},
   "outputs": [
    {
     "data": {
      "text/html": [
       "<div>\n",
       "<style scoped>\n",
       "    .dataframe tbody tr th:only-of-type {\n",
       "        vertical-align: middle;\n",
       "    }\n",
       "\n",
       "    .dataframe tbody tr th {\n",
       "        vertical-align: top;\n",
       "    }\n",
       "\n",
       "    .dataframe thead th {\n",
       "        text-align: right;\n",
       "    }\n",
       "</style>\n",
       "<table border=\"1\" class=\"dataframe\">\n",
       "  <thead>\n",
       "    <tr style=\"text-align: right;\">\n",
       "      <th></th>\n",
       "      <th>Year</th>\n",
       "      <th>Image</th>\n",
       "      <th>Laureate[A]</th>\n",
       "      <th>Country[B]</th>\n",
       "      <th>Rationale[C]</th>\n",
       "      <th>Ref</th>\n",
       "    </tr>\n",
       "  </thead>\n",
       "  <tbody>\n",
       "    <tr>\n",
       "      <th>0</th>\n",
       "      <td>1901</td>\n",
       "      <td>NaN</td>\n",
       "      <td>Wilhelm Röntgen (1845–1923)</td>\n",
       "      <td>German Empire</td>\n",
       "      <td>\"in recognition of the extraordinary services ...</td>\n",
       "      <td>[19]</td>\n",
       "    </tr>\n",
       "    <tr>\n",
       "      <th>1</th>\n",
       "      <td>1902</td>\n",
       "      <td>NaN</td>\n",
       "      <td>Hendrik Lorentz (1853–1928)</td>\n",
       "      <td>Netherlands</td>\n",
       "      <td>\"in recognition of the extraordinary service t...</td>\n",
       "      <td>[20]</td>\n",
       "    </tr>\n",
       "    <tr>\n",
       "      <th>2</th>\n",
       "      <td>1902</td>\n",
       "      <td>NaN</td>\n",
       "      <td>Pieter Zeeman (1865–1943)</td>\n",
       "      <td>Netherlands</td>\n",
       "      <td>\"in recognition of the extraordinary service t...</td>\n",
       "      <td>[20]</td>\n",
       "    </tr>\n",
       "    <tr>\n",
       "      <th>3</th>\n",
       "      <td>1903</td>\n",
       "      <td>NaN</td>\n",
       "      <td>Antoine Henri Becquerel (1852–1908)</td>\n",
       "      <td>France</td>\n",
       "      <td>\"for his discovery of spontaneous radioactivity\"</td>\n",
       "      <td>[21]</td>\n",
       "    </tr>\n",
       "    <tr>\n",
       "      <th>4</th>\n",
       "      <td>1903</td>\n",
       "      <td>NaN</td>\n",
       "      <td>Pierre Curie (1859–1906)</td>\n",
       "      <td>France</td>\n",
       "      <td>\"for their joint researches on the radiation p...</td>\n",
       "      <td>[21]</td>\n",
       "    </tr>\n",
       "  </tbody>\n",
       "</table>\n",
       "</div>"
      ],
      "text/plain": [
       "   Year Image                          Laureate[A]     Country[B]  \\\n",
       "0  1901   NaN          Wilhelm Röntgen (1845–1923)  German Empire   \n",
       "1  1902   NaN          Hendrik Lorentz (1853–1928)    Netherlands   \n",
       "2  1902   NaN            Pieter Zeeman (1865–1943)    Netherlands   \n",
       "3  1903   NaN  Antoine Henri Becquerel (1852–1908)         France   \n",
       "4  1903   NaN             Pierre Curie (1859–1906)         France   \n",
       "\n",
       "                                        Rationale[C]   Ref  \n",
       "0  \"in recognition of the extraordinary services ...  [19]  \n",
       "1  \"in recognition of the extraordinary service t...  [20]  \n",
       "2  \"in recognition of the extraordinary service t...  [20]  \n",
       "3   \"for his discovery of spontaneous radioactivity\"  [21]  \n",
       "4  \"for their joint researches on the radiation p...  [21]  "
      ]
     },
     "execution_count": 62,
     "metadata": {},
     "output_type": "execute_result"
    }
   ],
   "source": [
    "import pandas as pd\n",
    "\n",
    "url = \"https://en.wikipedia.org/wiki/List_of_Nobel_laureates_in_Physics\"\n",
    "\n",
    "# Fornecemos a URL ao Pandas:\n",
    "nobel_tables = pd.read_html(url)\n",
    "\n",
    "# Pegamos a primeira Tabela --> 0\n",
    "nobel_df = nobel_tables[0]\n",
    "nobel_df.head()"
   ]
  },
  {
   "cell_type": "code",
   "execution_count": 63,
   "metadata": {},
   "outputs": [
    {
     "data": {
      "text/plain": [
       "(228, 6)"
      ]
     },
     "execution_count": 63,
     "metadata": {},
     "output_type": "execute_result"
    }
   ],
   "source": [
    "nobel_df.shape"
   ]
  },
  {
   "attachments": {},
   "cell_type": "markdown",
   "metadata": {},
   "source": [
    "## <font color=\"red\">Limpeza de Dados</font>"
   ]
  },
  {
   "attachments": {},
   "cell_type": "markdown",
   "metadata": {},
   "source": [
    "<font color=\"orange\">Começamos eliminando as colunas que não são relevantes para a nossa análise:</font>"
   ]
  },
  {
   "cell_type": "code",
   "execution_count": 64,
   "metadata": {},
   "outputs": [],
   "source": [
    "# Eliminamos duas colunas:\n",
    "nobel_df.drop(['Image', 'Ref'], axis=1, inplace=True)"
   ]
  },
  {
   "attachments": {},
   "cell_type": "markdown",
   "metadata": {},
   "source": [
    "<font color=\"orange\">Limpamos os nomes das colunas e os traduzimos ao Português:</font>"
   ]
  },
  {
   "cell_type": "code",
   "execution_count": 65,
   "metadata": {},
   "outputs": [],
   "source": [
    "nobel_df.columns = ['Ano', 'Laureado', 'País', 'Justificativa']"
   ]
  },
  {
   "attachments": {},
   "cell_type": "markdown",
   "metadata": {},
   "source": [
    "<font color=\"orange\">Eliminamos todas as linhas em que o prêmio Nobel não foi concedido:</font>"
   ]
  },
  {
   "cell_type": "code",
   "execution_count": 66,
   "metadata": {},
   "outputs": [],
   "source": [
    "nobel_df = nobel_df.loc[~nobel_df['Laureado'].str.startswith('Not awarded')]\n",
    "\n",
    "# Sempre tem que aplicar o RESET para os Índices, para que eles sejam novamente en forma crescente:\n",
    "nobel_df.reset_index(drop=True, inplace=True)\n"
   ]
  },
  {
   "cell_type": "code",
   "execution_count": 67,
   "metadata": {},
   "outputs": [
    {
     "data": {
      "text/html": [
       "<div>\n",
       "<style scoped>\n",
       "    .dataframe tbody tr th:only-of-type {\n",
       "        vertical-align: middle;\n",
       "    }\n",
       "\n",
       "    .dataframe tbody tr th {\n",
       "        vertical-align: top;\n",
       "    }\n",
       "\n",
       "    .dataframe thead th {\n",
       "        text-align: right;\n",
       "    }\n",
       "</style>\n",
       "<table border=\"1\" class=\"dataframe\">\n",
       "  <thead>\n",
       "    <tr style=\"text-align: right;\">\n",
       "      <th></th>\n",
       "      <th>Ano</th>\n",
       "      <th>Laureado</th>\n",
       "      <th>País</th>\n",
       "      <th>Justificativa</th>\n",
       "    </tr>\n",
       "  </thead>\n",
       "  <tbody>\n",
       "    <tr>\n",
       "      <th>0</th>\n",
       "      <td>1901</td>\n",
       "      <td>Wilhelm Röntgen (1845–1923)</td>\n",
       "      <td>German Empire</td>\n",
       "      <td>\"in recognition of the extraordinary services ...</td>\n",
       "    </tr>\n",
       "    <tr>\n",
       "      <th>1</th>\n",
       "      <td>1902</td>\n",
       "      <td>Hendrik Lorentz (1853–1928)</td>\n",
       "      <td>Netherlands</td>\n",
       "      <td>\"in recognition of the extraordinary service t...</td>\n",
       "    </tr>\n",
       "    <tr>\n",
       "      <th>2</th>\n",
       "      <td>1902</td>\n",
       "      <td>Pieter Zeeman (1865–1943)</td>\n",
       "      <td>Netherlands</td>\n",
       "      <td>\"in recognition of the extraordinary service t...</td>\n",
       "    </tr>\n",
       "    <tr>\n",
       "      <th>3</th>\n",
       "      <td>1903</td>\n",
       "      <td>Antoine Henri Becquerel (1852–1908)</td>\n",
       "      <td>France</td>\n",
       "      <td>\"for his discovery of spontaneous radioactivity\"</td>\n",
       "    </tr>\n",
       "    <tr>\n",
       "      <th>4</th>\n",
       "      <td>1903</td>\n",
       "      <td>Pierre Curie (1859–1906)</td>\n",
       "      <td>France</td>\n",
       "      <td>\"for their joint researches on the radiation p...</td>\n",
       "    </tr>\n",
       "  </tbody>\n",
       "</table>\n",
       "</div>"
      ],
      "text/plain": [
       "    Ano                             Laureado           País  \\\n",
       "0  1901          Wilhelm Röntgen (1845–1923)  German Empire   \n",
       "1  1902          Hendrik Lorentz (1853–1928)    Netherlands   \n",
       "2  1902            Pieter Zeeman (1865–1943)    Netherlands   \n",
       "3  1903  Antoine Henri Becquerel (1852–1908)         France   \n",
       "4  1903             Pierre Curie (1859–1906)         France   \n",
       "\n",
       "                                       Justificativa  \n",
       "0  \"in recognition of the extraordinary services ...  \n",
       "1  \"in recognition of the extraordinary service t...  \n",
       "2  \"in recognition of the extraordinary service t...  \n",
       "3   \"for his discovery of spontaneous radioactivity\"  \n",
       "4  \"for their joint researches on the radiation p...  "
      ]
     },
     "execution_count": 67,
     "metadata": {},
     "output_type": "execute_result"
    }
   ],
   "source": [
    "nobel_df.head()"
   ]
  },
  {
   "cell_type": "code",
   "execution_count": 68,
   "metadata": {},
   "outputs": [
    {
     "data": {
      "text/plain": [
       "(222, 4)"
      ]
     },
     "execution_count": 68,
     "metadata": {},
     "output_type": "execute_result"
    }
   ],
   "source": [
    "nobel_df.shape"
   ]
  },
  {
   "attachments": {},
   "cell_type": "markdown",
   "metadata": {},
   "source": [
    "<font color=\"orange\">Verificamos que não temos Dados Missing: </font>"
   ]
  },
  {
   "cell_type": "code",
   "execution_count": 76,
   "metadata": {},
   "outputs": [
    {
     "data": {
      "text/plain": [
       "Ano              False\n",
       "Laureado         False\n",
       "País             False\n",
       "Justificativa    False\n",
       "dtype: bool"
      ]
     },
     "execution_count": 76,
     "metadata": {},
     "output_type": "execute_result"
    }
   ],
   "source": [
    "nobel_df.isnull().any()"
   ]
  },
  {
   "cell_type": "code",
   "execution_count": 77,
   "metadata": {},
   "outputs": [
    {
     "name": "stdout",
     "output_type": "stream",
     "text": [
      "<class 'pandas.core.frame.DataFrame'>\n",
      "RangeIndex: 222 entries, 0 to 221\n",
      "Data columns (total 4 columns):\n",
      " #   Column         Non-Null Count  Dtype \n",
      "---  ------         --------------  ----- \n",
      " 0   Ano            222 non-null    int64 \n",
      " 1   Laureado       222 non-null    object\n",
      " 2   País           222 non-null    object\n",
      " 3   Justificativa  222 non-null    object\n",
      "dtypes: int64(1), object(3)\n",
      "memory usage: 7.1+ KB\n"
     ]
    }
   ],
   "source": [
    "# Também podemos usar\n",
    "nobel_df.info()"
   ]
  },
  {
   "attachments": {},
   "cell_type": "markdown",
   "metadata": {},
   "source": [
    "# <font color=\"red\">Explorando nossos Dados com algumas perguntas</font>"
   ]
  },
  {
   "attachments": {},
   "cell_type": "markdown",
   "metadata": {},
   "source": [
    "## <font color=\"pink\">Quantos físicos ganharam um prêmio Nobel?</font>"
   ]
  },
  {
   "attachments": {},
   "cell_type": "markdown",
   "metadata": {},
   "source": [
    "<font color=\"orange\">Primeiro vou remover as datas da coluna \"Laureado\", para isso começamos removendo qualquer coisa entre os parênteses usando [RegEx](https://medium.com/xp-inc/regex-um-guia-pratico-para-express%C3%B5es-regulares-1ac5fa4dd39f).</font>"
   ]
  },
  {
   "cell_type": "code",
   "execution_count": 78,
   "metadata": {},
   "outputs": [
    {
     "name": "stderr",
     "output_type": "stream",
     "text": [
      "/tmp/ipykernel_22144/1741914262.py:2: SettingWithCopyWarning: \n",
      "A value is trying to be set on a copy of a slice from a DataFrame.\n",
      "Try using .loc[row_indexer,col_indexer] = value instead\n",
      "\n",
      "See the caveats in the documentation: https://pandas.pydata.org/pandas-docs/stable/user_guide/indexing.html#returning-a-view-versus-a-copy\n",
      "  nobel_df['Laureado'] = nobel_df['Laureado'].str.replace('\\(.+?\\)', '', regex=True)\n"
     ]
    }
   ],
   "source": [
    "# Assim:\n",
    "nobel_df['Laureado'] = nobel_df['Laureado'].str.replace('\\(.+?\\)', '', regex=True)\n",
    "\n",
    "\n",
    "\n",
    "# ou assim:\n",
    "\n",
    "# import re\n",
    "\n",
    "# def Delete_Date(text):\n",
    "#     text = re.sub(r'\\(.+?\\)', '', text)\n",
    "#     return text\n",
    "\n",
    "\n",
    "# nobel_df['Laureado'] = nobel_df['Laureado'].apply(lambda x: Delete_Date(x))"
   ]
  },
  {
   "cell_type": "code",
   "execution_count": 79,
   "metadata": {},
   "outputs": [
    {
     "data": {
      "text/html": [
       "<div>\n",
       "<style scoped>\n",
       "    .dataframe tbody tr th:only-of-type {\n",
       "        vertical-align: middle;\n",
       "    }\n",
       "\n",
       "    .dataframe tbody tr th {\n",
       "        vertical-align: top;\n",
       "    }\n",
       "\n",
       "    .dataframe thead th {\n",
       "        text-align: right;\n",
       "    }\n",
       "</style>\n",
       "<table border=\"1\" class=\"dataframe\">\n",
       "  <thead>\n",
       "    <tr style=\"text-align: right;\">\n",
       "      <th></th>\n",
       "      <th>Ano</th>\n",
       "      <th>Laureado</th>\n",
       "      <th>País</th>\n",
       "      <th>Justificativa</th>\n",
       "    </tr>\n",
       "  </thead>\n",
       "  <tbody>\n",
       "    <tr>\n",
       "      <th>0</th>\n",
       "      <td>1901</td>\n",
       "      <td>Wilhelm Röntgen</td>\n",
       "      <td>German Empire</td>\n",
       "      <td>\"in recognition of the extraordinary services ...</td>\n",
       "    </tr>\n",
       "    <tr>\n",
       "      <th>1</th>\n",
       "      <td>1902</td>\n",
       "      <td>Hendrik Lorentz</td>\n",
       "      <td>Netherlands</td>\n",
       "      <td>\"in recognition of the extraordinary service t...</td>\n",
       "    </tr>\n",
       "    <tr>\n",
       "      <th>2</th>\n",
       "      <td>1902</td>\n",
       "      <td>Pieter Zeeman</td>\n",
       "      <td>Netherlands</td>\n",
       "      <td>\"in recognition of the extraordinary service t...</td>\n",
       "    </tr>\n",
       "    <tr>\n",
       "      <th>3</th>\n",
       "      <td>1903</td>\n",
       "      <td>Antoine Henri Becquerel</td>\n",
       "      <td>France</td>\n",
       "      <td>\"for his discovery of spontaneous radioactivity\"</td>\n",
       "    </tr>\n",
       "    <tr>\n",
       "      <th>4</th>\n",
       "      <td>1903</td>\n",
       "      <td>Pierre Curie</td>\n",
       "      <td>France</td>\n",
       "      <td>\"for their joint researches on the radiation p...</td>\n",
       "    </tr>\n",
       "  </tbody>\n",
       "</table>\n",
       "</div>"
      ],
      "text/plain": [
       "    Ano                 Laureado           País  \\\n",
       "0  1901          Wilhelm Röntgen  German Empire   \n",
       "1  1902          Hendrik Lorentz    Netherlands   \n",
       "2  1902            Pieter Zeeman    Netherlands   \n",
       "3  1903  Antoine Henri Becquerel         France   \n",
       "4  1903             Pierre Curie         France   \n",
       "\n",
       "                                       Justificativa  \n",
       "0  \"in recognition of the extraordinary services ...  \n",
       "1  \"in recognition of the extraordinary service t...  \n",
       "2  \"in recognition of the extraordinary service t...  \n",
       "3   \"for his discovery of spontaneous radioactivity\"  \n",
       "4  \"for their joint researches on the radiation p...  "
      ]
     },
     "execution_count": 79,
     "metadata": {},
     "output_type": "execute_result"
    }
   ],
   "source": [
    "nobel_df.head()"
   ]
  },
  {
   "cell_type": "code",
   "execution_count": 80,
   "metadata": {},
   "outputs": [
    {
     "name": "stderr",
     "output_type": "stream",
     "text": [
      "/tmp/ipykernel_22144/1780877785.py:2: SettingWithCopyWarning: \n",
      "A value is trying to be set on a copy of a slice from a DataFrame.\n",
      "Try using .loc[row_indexer,col_indexer] = value instead\n",
      "\n",
      "See the caveats in the documentation: https://pandas.pydata.org/pandas-docs/stable/user_guide/indexing.html#returning-a-view-versus-a-copy\n",
      "  nobel_df['Laureado'] = nobel_df['Laureado'].str.strip()\n"
     ]
    }
   ],
   "source": [
    "# Removemos os espaços em branco desnecessários:\n",
    "nobel_df['Laureado'] = nobel_df['Laureado'].str.strip()\n"
   ]
  },
  {
   "cell_type": "code",
   "execution_count": 81,
   "metadata": {},
   "outputs": [
    {
     "data": {
      "text/html": [
       "<div>\n",
       "<style scoped>\n",
       "    .dataframe tbody tr th:only-of-type {\n",
       "        vertical-align: middle;\n",
       "    }\n",
       "\n",
       "    .dataframe tbody tr th {\n",
       "        vertical-align: top;\n",
       "    }\n",
       "\n",
       "    .dataframe thead th {\n",
       "        text-align: right;\n",
       "    }\n",
       "</style>\n",
       "<table border=\"1\" class=\"dataframe\">\n",
       "  <thead>\n",
       "    <tr style=\"text-align: right;\">\n",
       "      <th></th>\n",
       "      <th>Ano</th>\n",
       "      <th>Laureado</th>\n",
       "      <th>País</th>\n",
       "      <th>Justificativa</th>\n",
       "    </tr>\n",
       "  </thead>\n",
       "  <tbody>\n",
       "    <tr>\n",
       "      <th>0</th>\n",
       "      <td>1901</td>\n",
       "      <td>Wilhelm Röntgen</td>\n",
       "      <td>German Empire</td>\n",
       "      <td>\"in recognition of the extraordinary services ...</td>\n",
       "    </tr>\n",
       "    <tr>\n",
       "      <th>1</th>\n",
       "      <td>1902</td>\n",
       "      <td>Hendrik Lorentz</td>\n",
       "      <td>Netherlands</td>\n",
       "      <td>\"in recognition of the extraordinary service t...</td>\n",
       "    </tr>\n",
       "    <tr>\n",
       "      <th>2</th>\n",
       "      <td>1902</td>\n",
       "      <td>Pieter Zeeman</td>\n",
       "      <td>Netherlands</td>\n",
       "      <td>\"in recognition of the extraordinary service t...</td>\n",
       "    </tr>\n",
       "    <tr>\n",
       "      <th>3</th>\n",
       "      <td>1903</td>\n",
       "      <td>Antoine Henri Becquerel</td>\n",
       "      <td>France</td>\n",
       "      <td>\"for his discovery of spontaneous radioactivity\"</td>\n",
       "    </tr>\n",
       "    <tr>\n",
       "      <th>4</th>\n",
       "      <td>1903</td>\n",
       "      <td>Pierre Curie</td>\n",
       "      <td>France</td>\n",
       "      <td>\"for their joint researches on the radiation p...</td>\n",
       "    </tr>\n",
       "  </tbody>\n",
       "</table>\n",
       "</div>"
      ],
      "text/plain": [
       "    Ano                 Laureado           País  \\\n",
       "0  1901          Wilhelm Röntgen  German Empire   \n",
       "1  1902          Hendrik Lorentz    Netherlands   \n",
       "2  1902            Pieter Zeeman    Netherlands   \n",
       "3  1903  Antoine Henri Becquerel         France   \n",
       "4  1903             Pierre Curie         France   \n",
       "\n",
       "                                       Justificativa  \n",
       "0  \"in recognition of the extraordinary services ...  \n",
       "1  \"in recognition of the extraordinary service t...  \n",
       "2  \"in recognition of the extraordinary service t...  \n",
       "3   \"for his discovery of spontaneous radioactivity\"  \n",
       "4  \"for their joint researches on the radiation p...  "
      ]
     },
     "execution_count": 81,
     "metadata": {},
     "output_type": "execute_result"
    }
   ],
   "source": [
    "nobel_df.head()"
   ]
  }
 ],
 "metadata": {
  "kernelspec": {
   "display_name": "venv_scraping",
   "language": "python",
   "name": "python3"
  },
  "language_info": {
   "codemirror_mode": {
    "name": "ipython",
    "version": 3
   },
   "file_extension": ".py",
   "mimetype": "text/x-python",
   "name": "python",
   "nbconvert_exporter": "python",
   "pygments_lexer": "ipython3",
   "version": "3.10.6"
  },
  "orig_nbformat": 4,
  "vscode": {
   "interpreter": {
    "hash": "4bd8e79813019b8a9d4861e7c60db3660dbab33db23387434b41f07de72f124f"
   }
  }
 },
 "nbformat": 4,
 "nbformat_minor": 2
}
